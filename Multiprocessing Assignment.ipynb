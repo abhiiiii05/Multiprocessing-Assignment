{
 "cells": [
  {
   "cell_type": "markdown",
   "id": "e726eadd-64c8-4b0b-8e71-6498c1b52b65",
   "metadata": {},
   "source": [
    "### Q1. What is multiprocessing in python? Why is it useful?"
   ]
  },
  {
   "cell_type": "markdown",
   "id": "7f104c0f-e494-4ec1-b418-73d93beade62",
   "metadata": {},
   "source": [
    "Multiprocessing in Python involves running multiple processes simultaneously to execute tasks. It allows you to utilize multiple CPU cores, which can significantly enhance performance for CPU-bound tasks. \n",
    "\n",
    " By leveraging multiprocessing, you can divide the workload among different processes, taking advantage of the system's full processing power."
   ]
  },
  {
   "cell_type": "markdown",
   "id": "6f90cc81-603f-4cd3-b472-c272093db119",
   "metadata": {},
   "source": [
    "### Q2. What are the differences between multiprocessing and multithreading?"
   ]
  },
  {
   "cell_type": "markdown",
   "id": "711b9c2e-b03e-4e39-a0f4-e4c6dd285c2f",
   "metadata": {},
   "source": [
    "Multiprocessing involves running multiple processes simultaneously, each with its own memory space, while multithreading involves running multiple threads within a single process, sharing the same memory space. \n",
    "\n",
    "Multiprocessing is more robust but requires inter-process communication, while multithreading is lighter and shares data more easily but can be complex due to potential thread interference."
   ]
  },
  {
   "cell_type": "markdown",
   "id": "367858a9-08cb-47fc-8139-e4af8ed0fdc5",
   "metadata": {},
   "source": [
    "### Q3. Write a python code to create a process using the multiprocessing module."
   ]
  },
  {
   "cell_type": "code",
   "execution_count": 2,
   "id": "bc1f0008-40a4-4b53-a907-0474db8e4d64",
   "metadata": {},
   "outputs": [
    {
     "name": "stdout",
     "output_type": "stream",
     "text": [
      "this is good\n",
      "this is my process\n"
     ]
    }
   ],
   "source": [
    "import multiprocessing\n",
    "\n",
    "def test():\n",
    "    print(\"this is my process\")\n",
    "    \n",
    "if __name__ == \"__main__\":\n",
    "    m1 = multiprocessing.Process(target = test)\n",
    "    print(\"this is good\")\n",
    "    m1.start()\n",
    "    m1.join()"
   ]
  },
  {
   "cell_type": "markdown",
   "id": "fb8f6329-edd8-4d17-951a-672588c48776",
   "metadata": {},
   "source": [
    "### Q4. What is a multiprocessing pool in python? Why is it used?"
   ]
  },
  {
   "cell_type": "markdown",
   "id": "815457f5-81d7-4446-9a81-5a3067c26078",
   "metadata": {},
   "source": [
    "A multiprocessing pool in Python is a way to execute multiple processes simultaneously by distributing tasks among a pool of worker processes. It's used to manage and distribute work across multiple CPU cores efficiently."
   ]
  },
  {
   "cell_type": "markdown",
   "id": "0cba9da6-212e-4cc3-8735-aa67f5f4678d",
   "metadata": {},
   "source": [
    "### Q5. How can we create a pool of worker processes in python using the multiprocessing module?"
   ]
  },
  {
   "cell_type": "code",
   "execution_count": 4,
   "id": "f267ae6f-e4dd-45ba-b0a2-bc6c9279fd4a",
   "metadata": {},
   "outputs": [
    {
     "name": "stdout",
     "output_type": "stream",
     "text": [
      "[25, 9, 16, 529, 64, 49, 81]\n"
     ]
    }
   ],
   "source": [
    "import multiprocessing\n",
    "\n",
    "def test1(n):\n",
    "    return n**2\n",
    "if __name__ == \"__main__\":\n",
    "    with multiprocessing.Pool(processes = 5) as pool:\n",
    "        out = pool.map(test1, [5,3,4,23,8,7,9])\n",
    "        print(out)"
   ]
  },
  {
   "cell_type": "markdown",
   "id": "c281d1e3-3300-4c5b-8021-8bd7b51d91ba",
   "metadata": {},
   "source": [
    "### Q6. Write a python program to create 4 processes, each process should print a different number using the multiprocessing module in python."
   ]
  },
  {
   "cell_type": "code",
   "execution_count": null,
   "id": "42a6d9f8-3a68-40b5-80a4-a565c57200d3",
   "metadata": {},
   "outputs": [],
   "source": []
  }
 ],
 "metadata": {
  "kernelspec": {
   "display_name": "Python 3 (ipykernel)",
   "language": "python",
   "name": "python3"
  },
  "language_info": {
   "codemirror_mode": {
    "name": "ipython",
    "version": 3
   },
   "file_extension": ".py",
   "mimetype": "text/x-python",
   "name": "python",
   "nbconvert_exporter": "python",
   "pygments_lexer": "ipython3",
   "version": "3.10.8"
  }
 },
 "nbformat": 4,
 "nbformat_minor": 5
}
